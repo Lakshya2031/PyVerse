import numpy as np

import pandas as pd

df=pd.read_csv("/content/healthcare-dataset-stroke-data.csv")

df.head()

df=df.drop(columns=['id'])

df.head()



df.head()

df.gender.isnull().sum()
print(df.columns)

df.info()

from sklearn.impute import SimpleImputer

a=SimpleImputer()
from sklearn.compose import ColumnTransformer

d=ColumnTransformer([('impute_bmi',a,['bmi'])],remainder='passthrough')
print(df)

df_transformed=d.fit_transform(df)
print(df_transformed)
df=pd.DataFrame(df_transformed,columns=['gender', 'age', 'hypertension', 'heart_disease', 'ever_married',
       'work_type', 'Residence_type', 'avg_glucose_level', 'bmi',
       'smoking_status', 'stroke'])



d5=SimpleImputer(strategy='most_frequent')
d1=ColumnTransformer([('impute_smoking',d5,['smoking_status'])],remainder='passthrough')
df4=d1.fit_transform(df)
from scipy import stats

df['smoking_status'].value_counts()

df.info()

df['work_type'].unique()

df['work_type']=df['work_type'].apply(lambda x: 1 if x=='Yes' else 0  )


df.info()

df

df['Residence_type'].unique()
df['avg_glucose_level'].unique()
df['smoking_status'].unique()

from sklearn.preprocessing import OrdinalEncoder

oe = OrdinalEncoder(categories=[['never smoked','formerly smoked', 'smokes','Unknown']])



df1=oe.fit_transform(df[['smoking_status']])

print(df1)

df['smoking_status']=df1

print(df.head())

from sklearn.preprocessing import StandardScaler

from sklearn.model_selection import train_test_split

X=df.drop(columns=['stroke'])
X=X.astype('float')
Y=df['stroke']
Y=Y.astype('float')
print(X)
print(Y)

scaler=StandardScaler()

X=scaler.fit_transform(X)


X_train,X_test,Y_train,Y_test=train_test_split(X,Y,test_size=0.2,random_state=2)

from sklearn.linear_model import LogisticRegression

a5=LogisticRegression()

a5.fit(X_train,Y_train)

b=a5.predict(X_test)

from sklearn.metrics import accuracy_score

acc=accuracy_score(Y_test,b)

print(acc)


import pickle

pickle.dump(a5,open('model23.pkl','wb'))

















!pip install requests

#  Install any required libraries
!pip install folium --quiet

import requests
import folium
import numpy as np

#  STEP 1: Convert Pincode to Coordinates using OpenStreetMap
def get_location_osm(pincode):
    url = f"https://nominatim.openstreetmap.org/search?postalcode={pincode}&country=India&format=json"
    response = requests.get(url, headers={"User-Agent": "Mozilla/5.0"})
    data = response.json()
    if data:
        lat = float(data[0]['lat'])
        lon = float(data[0]['lon'])
        return lat, lon
    else:
        return None, None

#  STEP 2: Get Nearby Hospitals using Overpass API
def get_nearby_hospitals(lat, lon, radius=5000):
    query = f"""
    [out:json];
    (
      node["amenity"="hospital"](around:{radius},{lat},{lon});
      way["amenity"="hospital"](around:{radius},{lat},{lon});
      relation["amenity"="hospital"](around:{radius},{lat},{lon});
    );
    out center;
    """
    response = requests.get("http://overpass-api.de/api/interpreter", params={"data": query})
    hospitals = response.json()['elements']
    results = []
    for h in hospitals:
        name = h.get("tags", {}).get("name", "Unnamed Hospital")
        hlat = h.get("lat") or h.get("center", {}).get("lat")
        hlon = h.get("lon") or h.get("center", {}).get("lon")
        if hlat and hlon:
            results.append((name, hlat, hlon))
    return results

#  STEP 3: Plot on map
def plot_hospitals_on_map(lat, lon, hospitals):
    m = folium.Map(location=[lat, lon], zoom_start=13)
    folium.Marker([lat, lon], tooltip="Your Location", icon=folium.Icon(color='red')).add_to(m)
    for name, hlat, hlon in hospitals:
        folium.Marker([hlat, hlon], tooltip=name, icon=folium.Icon(color='green')).add_to(m)
    return m

#  STEP 4: Simulate prediction
def heart_disease_prediction(user_input):
    # Replace this with your real model:
    # prediction = model.predict([user_input])

    # Simulating prediction (1 = at risk, 0 = no risk)
    return 1 if np.mean(user_input) > 0.5 else 0

#  STEP 5: Combine Everything
user_input = list(map(float, input("Enter features (comma-separated): ").split(',')))
user_pincode = input("Enter your pincode: ")

prediction = heart_disease_prediction(user_input)

if prediction == 1:
    print(" Risk of heart disease detected.")
    lat, lon = get_location_osm(user_pincode)
    if lat and lon:
        hospitals = get_nearby_hospitals(lat, lon)
        if hospitals:
            print("\n Nearby Hospitals:")
            for name, hlat, hlon in hospitals[:5]:  # Top 5
                print(f"{name} - ({hlat}, {hlon})")
            m = plot_hospitals_on_map(lat, lon, hospitals[:5])
            m  # This will show map in Colab
        else:
            print("No hospitals found nearby.")
    else:
        print(" Could not get location for this pincode.")
else:
    print(" You are not at immediate risk.")
